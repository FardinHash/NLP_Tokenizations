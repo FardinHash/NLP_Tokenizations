{
  "nbformat": 4,
  "nbformat_minor": 0,
  "metadata": {
    "colab": {
      "name": "tokenize_with_NLTK.ipynb",
      "provenance": [],
      "collapsed_sections": []
    },
    "kernelspec": {
      "name": "python3",
      "display_name": "Python 3"
    },
    "language_info": {
      "name": "python"
    }
  },
  "cells": [
    {
      "cell_type": "code",
      "execution_count": 30,
      "metadata": {
        "id": "JfL1yAiQaPmp",
        "colab": {
          "base_uri": "https://localhost:8080/"
        },
        "outputId": "c67caf85-1fae-4895-f9a8-6f6350736f39"
      },
      "outputs": [
        {
          "output_type": "stream",
          "name": "stdout",
          "text": [
            "[nltk_data] Downloading package punkt to /root/nltk_data...\n",
            "[nltk_data]   Unzipping tokenizers/punkt.zip.\n"
          ]
        }
      ],
      "source": [
        "import tensorflow as tf\n",
        "from tensorflow import keras\n",
        "from tensorflow.keras.preprocessing.text import Tokenizer\n",
        "import nltk\n",
        "nltk.download('punkt')\n",
        "from nltk.tokenize import word_tokenize\n",
        "from nltk.tokenize import sent_tokenize"
      ]
    },
    {
      "cell_type": "code",
      "source": [
        "#For words\n",
        "\n",
        "line='people call its magic, we call it engineering'\n"
      ],
      "metadata": {
        "id": "SxYWmBBbUCy6"
      },
      "execution_count": 20,
      "outputs": []
    },
    {
      "cell_type": "code",
      "source": [
        "token= word_tokenize(line)\n",
        "print(token)"
      ],
      "metadata": {
        "colab": {
          "base_uri": "https://localhost:8080/"
        },
        "id": "YBbRYxYHUhk3",
        "outputId": "7393a236-6921-46eb-d4b7-b4dc66ddb1c3"
      },
      "execution_count": 31,
      "outputs": [
        {
          "output_type": "stream",
          "name": "stdout",
          "text": [
            "['people', 'call', 'its', 'magic', ',', 'we', 'call', 'it', 'engineering']\n"
          ]
        }
      ]
    },
    {
      "cell_type": "code",
      "source": [
        "#For sentences\n",
        "\n",
        "sentences = '''people call its magic, we call it engineering. Research anything that you love! Be a lazy programmer.'''"
      ],
      "metadata": {
        "id": "ljjboDwLbnBr"
      },
      "execution_count": 26,
      "outputs": []
    },
    {
      "cell_type": "code",
      "source": [
        "sent_tokenize(sentences)"
      ],
      "metadata": {
        "colab": {
          "base_uri": "https://localhost:8080/"
        },
        "id": "sG5y7RIpUzDw",
        "outputId": "30cd06d4-5b8a-459e-89d5-5fdd6ab76a41"
      },
      "execution_count": 32,
      "outputs": [
        {
          "output_type": "execute_result",
          "data": {
            "text/plain": [
              "['people call its magic, we call it engineering.',\n",
              " 'Research anything that you love!',\n",
              " 'Be a lazy programmer.']"
            ]
          },
          "metadata": {},
          "execution_count": 32
        }
      ]
    }
  ]
}