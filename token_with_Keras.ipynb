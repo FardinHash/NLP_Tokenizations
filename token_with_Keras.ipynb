{
  "nbformat": 4,
  "nbformat_minor": 0,
  "metadata": {
    "colab": {
      "name": "token_with_Keras.ipynb",
      "provenance": [],
      "collapsed_sections": []
    },
    "kernelspec": {
      "name": "python3",
      "display_name": "Python 3"
    },
    "language_info": {
      "name": "python"
    }
  },
  "cells": [
    {
      "cell_type": "code",
      "execution_count": 19,
      "metadata": {
        "id": "JfL1yAiQaPmp"
      },
      "outputs": [],
      "source": [
        "import tensorflow as tf\n",
        "from tensorflow import keras\n",
        "from tensorflow.keras.preprocessing.text import Tokenizer\n",
        "from keras.preprocessing.text import text_to_word_sequence"
      ]
    },
    {
      "cell_type": "code",
      "source": [
        "#For words\n",
        "\n",
        "line='people call its magic, we call it engineering'\n"
      ],
      "metadata": {
        "id": "SxYWmBBbUCy6"
      },
      "execution_count": 20,
      "outputs": []
    },
    {
      "cell_type": "code",
      "source": [
        "token= text_to_word_sequence(line)\n",
        "print(token)"
      ],
      "metadata": {
        "colab": {
          "base_uri": "https://localhost:8080/"
        },
        "id": "YBbRYxYHUhk3",
        "outputId": "61402a50-df29-4fc7-f14f-b00043d520fc"
      },
      "execution_count": 21,
      "outputs": [
        {
          "output_type": "stream",
          "name": "stdout",
          "text": [
            "['people', 'call', 'its', 'magic', 'we', 'call', 'it', 'engineering']\n"
          ]
        }
      ]
    },
    {
      "cell_type": "code",
      "source": [
        "#For sentences\n",
        "\n",
        "sentences = '''people call its magic, we call it engineering. Research anything that you love! Be a lazy programmer.'''"
      ],
      "metadata": {
        "id": "ljjboDwLbnBr"
      },
      "execution_count": 26,
      "outputs": []
    },
    {
      "cell_type": "code",
      "source": [
        "text_to_word_sequence(sentences, split= \".\", filters=\"!\")"
      ],
      "metadata": {
        "colab": {
          "base_uri": "https://localhost:8080/"
        },
        "id": "sG5y7RIpUzDw",
        "outputId": "69e0b484-1ab1-4a86-b999-316ad0ca3b38"
      },
      "execution_count": 27,
      "outputs": [
        {
          "output_type": "execute_result",
          "data": {
            "text/plain": [
              "['people call its magic, we call it engineering',\n",
              " ' research anything that you love',\n",
              " ' be a lazy programmer']"
            ]
          },
          "metadata": {},
          "execution_count": 27
        }
      ]
    },
    {
      "cell_type": "code",
      "source": [
        "sequences = tokenizer.texts_to_sequences(sentences)"
      ],
      "metadata": {
        "id": "fa436oYc3Iup"
      },
      "execution_count": 6,
      "outputs": []
    }
  ]
}